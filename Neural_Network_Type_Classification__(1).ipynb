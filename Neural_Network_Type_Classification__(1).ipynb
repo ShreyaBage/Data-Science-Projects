{
  "nbformat": 4,
  "nbformat_minor": 0,
  "metadata": {
    "colab": {
      "provenance": [],
      "include_colab_link": true
    },
    "kernelspec": {
      "name": "python3",
      "display_name": "Python 3"
    },
    "language_info": {
      "name": "python"
    }
  },
  "cells": [
    {
      "cell_type": "markdown",
      "metadata": {
        "id": "view-in-github",
        "colab_type": "text"
      },
      "source": [
        "<a href=\"https://colab.research.google.com/github/ShreyaBage/Data-Science-Projects/blob/main/Neural_Network_Type_Classification__(1).ipynb\" target=\"_parent\"><img src=\"https://colab.research.google.com/assets/colab-badge.svg\" alt=\"Open In Colab\"/></a>"
      ]
    },
    {
      "cell_type": "markdown",
      "source": [
        "# ***Neural Network Type Classification***"
      ],
      "metadata": {
        "id": "cwzcd7GRDn4Z"
      }
    },
    {
      "cell_type": "markdown",
      "source": [
        "Using TensorFlow and Keras to load and preprocess the Fashion MNIST dataset. This is a common practice before training a neural network on the data. The code you provided does the following:\n",
        "\n",
        "Imports the Fashion MNIST dataset from tensorflow.keras.datasets.\n",
        "Loads the training and testing data along with their corresponding labels.\n",
        "Normalizes the pixel values of the images to be in the range [0, 1] by dividing each pixel value by 255.0.\n",
        "This normalization step is essential for training neural networks, as it helps stabilize and speed up the training process. Neural networks generally perform better when input data is centered around zero and has a small standard deviation.\n",
        "\n",
        "After this preprocessing, you can proceed with building and training your neural network using the normalized data. If you have any specific questions or if you need further assistance with your code, feel free to ask!"
      ],
      "metadata": {
        "id": "trmlUkgMBHmG"
      }
    },
    {
      "cell_type": "markdown",
      "source": [
        "***What is a MNIST dataset***\n",
        "\n",
        "The MNIST dataset is a widely used dataset in the field of machine learning and computer vision. It has several qualities that make it suitable for various purposes, particularly for training and testing models, especially in the context of digit recognition. Here are some key qualities of the MNIST dataset:\n",
        "\n",
        "*Image Size:* All images in the MNIST dataset are grayscale and have a fixed size of 28x28 pixels. The small size allows for relatively quick training of models, making it a good starting point for experimentation.\n",
        "\n",
        "*Digit Samples*: MNIST consists of handwritten digits (0 through 9), making it a classification task with ten classes. Each image represents a single digit, and the goal is to train a model to correctly classify the digit in each image.\n",
        "\n",
        "*Large Dataset*: MNIST is relatively large for a simple dataset, with 60,000 training images and 10,000 testing images. This provides enough data to train models effectively without being excessively large, making it accessible for experimentation on personal machines.\n",
        "\n",
        "*Standardized Task*: The dataset provides a standardized and widely recognized task for benchmarking and comparing different machine learning models. Many researchers and practitioners use MNIST as a starting point to evaluate and showcase their algorithms.\n",
        "\n",
        "*Challenging Aspects*: While MNIST is relatively simple compared to more complex datasets, it still poses challenges for certain types of models. The variations in handwriting styles and the simplicity of the images make it a good introductory dataset for testing basic classification algorithms.\n",
        "\n",
        "*Readily Available*: The MNIST dataset is easily accessible and can be loaded directly using popular machine learning libraries like TensorFlow and PyTorch. This availability makes it a convenient choice for educational purposes and quick experimentation.\n",
        "\n",
        "It's worth noting that while MNIST has been a benchmark dataset for many years, more complex datasets have been introduced to address the limitations of MNIST and provide a greater challenge for modern machine learning models. Examples include CIFAR-10, CIFAR-100, and ImageNet for image classification tasks."
      ],
      "metadata": {
        "id": "fk-BcUdzEDoW"
      }
    },
    {
      "cell_type": "code",
      "execution_count": null,
      "metadata": {
        "colab": {
          "base_uri": "https://localhost:8080/"
        },
        "id": "9U9AkHScs9Eo",
        "outputId": "20d93b15-ad38-4511-b0c5-51c29a131577"
      },
      "outputs": [
        {
          "output_type": "stream",
          "name": "stderr",
          "text": [
            "Exception ignored in: <function _xla_gc_callback at 0x7f139e02ad40>\n",
            "Traceback (most recent call last):\n",
            "  File \"/usr/local/lib/python3.10/dist-packages/jax/_src/lib/__init__.py\", line 101, in _xla_gc_callback\n",
            "    def _xla_gc_callback(*args):\n",
            "KeyboardInterrupt: \n"
          ]
        },
        {
          "output_type": "stream",
          "name": "stdout",
          "text": [
            "Downloading data from https://storage.googleapis.com/tensorflow/tf-keras-datasets/train-labels-idx1-ubyte.gz\n",
            "29515/29515 [==============================] - 0s 0us/step\n",
            "Downloading data from https://storage.googleapis.com/tensorflow/tf-keras-datasets/train-images-idx3-ubyte.gz\n",
            "26421880/26421880 [==============================] - 0s 0us/step\n",
            "Downloading data from https://storage.googleapis.com/tensorflow/tf-keras-datasets/t10k-labels-idx1-ubyte.gz\n",
            "5148/5148 [==============================] - 0s 0us/step\n",
            "Downloading data from https://storage.googleapis.com/tensorflow/tf-keras-datasets/t10k-images-idx3-ubyte.gz\n",
            "4422102/4422102 [==============================] - 0s 0us/step\n"
          ]
        }
      ],
      "source": [
        "from tensorflow.keras.datasets import fashion_mnist\n",
        "\n",
        "# Load the Fashion MNIST dataset\n",
        "(X_train_fashion, y_train_fashion), (X_test_fashion, y_test_fashion) = fashion_mnist.load_data()\n",
        "\n",
        "# Normalize pixel values to be between 0 and 1\n",
        "X_train_fashion = X_train_fashion / 255.0\n",
        "X_test_fashion = X_test_fashion / 255.0"
      ]
    },
    {
      "cell_type": "markdown",
      "source": [
        " Setting up a TensorFlow environment for building and training a neural network using the Keras API."
      ],
      "metadata": {
        "id": "zw3wJPCpExxB"
      }
    },
    {
      "cell_type": "code",
      "source": [
        "import tensorflow as tf\n",
        "from tensorflow.keras import layers, models\n",
        "import matplotlib.pyplot as plt"
      ],
      "metadata": {
        "id": "iSOZo_DHtNLu"
      },
      "execution_count": null,
      "outputs": []
    },
    {
      "cell_type": "code",
      "source": [
        "# Load the MNIST dataset\n",
        "(X_train, y_train), (X_test, y_test) = tf.keras.datasets.mnist.load_data()"
      ],
      "metadata": {
        "colab": {
          "base_uri": "https://localhost:8080/"
        },
        "id": "OBKuo9HKtBTI",
        "outputId": "4fcb6148-c2bf-42f4-8056-ae6e9b1f8e3c"
      },
      "execution_count": null,
      "outputs": [
        {
          "output_type": "stream",
          "name": "stdout",
          "text": [
            "Downloading data from https://storage.googleapis.com/tensorflow/tf-keras-datasets/mnist.npz\n",
            "11490434/11490434 [==============================] - 0s 0us/step\n"
          ]
        }
      ]
    },
    {
      "cell_type": "markdown",
      "source": [
        "***Scaling Data***\n",
        "This is a preprocessing step when working with image data, including in the context of neural network training.\n",
        "\n",
        "Here, X_train and X_test are assumed to be your training and testing datasets, respectively. By dividing the pixel values by 255.0, you're scaling the pixel values to the range [0, 1]. This normalization is beneficial for training neural networks because it ensures that the input data is on a similar scale, which can lead to faster convergence during training.\n",
        "\n",
        "The rationale behind dividing by 255.0 is that pixel values in typical images are in the range of [0, 255], where 0 represents black and 255 represents white in grayscale images. By dividing by 255.0, you're transforming these pixel values to the range [0, 1], which is a common practice for normalization."
      ],
      "metadata": {
        "id": "3VsO0ljXFDz-"
      }
    },
    {
      "cell_type": "code",
      "source": [
        "# Normalize pixel values to be between 0 and 1\n",
        "X_train, X_test = X_train / 255.0, X_test / 255.0"
      ],
      "metadata": {
        "id": "GKQmvT1dtaI0"
      },
      "execution_count": null,
      "outputs": []
    },
    {
      "cell_type": "markdown",
      "source": [
        "***Formation of Neural Network***\n",
        "\n",
        "This layer flattens the 2D array of 28x28 pixels into a 1D array of 784 pixels. It serves as the input layer, transforming the input images into a format that can be processed by the subsequent dense layers.\n",
        "\n",
        "a fully connected (dense) layer with 128 units and ReLU activation. Each unit in this layer is connected to every unit in the previous layer. The ReLU activation function introduces non-linearity to the model.\n",
        "\n",
        "Dropout is a regularization technique used to reduce overfitting. It randomly drops a fraction of the neurons during training, helping prevent the model from relying too heavily on specific neurons.\n",
        "\n",
        "This is the output layer with 10 units, corresponding to the 10 possible digits (assuming this is for a digit classification task). The softmax activation function is used to convert the model's raw output into probabilities for each class, making it suitable for multi-class classification."
      ],
      "metadata": {
        "id": "56HcqRToFaB4"
      }
    },
    {
      "cell_type": "code",
      "source": [
        "# Build a simple neural network model\n",
        "model = models.Sequential([\n",
        "    layers.Flatten(input_shape=(28, 28)),  # Flatten the 28x28 images into a 1D array\n",
        "    layers.Dense(128, activation='relu'),  # Fully connected layer with 128 units and ReLU activation\n",
        "    layers.Dropout(0.2),                    # Dropout layer to reduce overfitting\n",
        "    layers.Dense(10, activation='softmax')  # Output layer with 10 units (for 10 digits) and softmax activation\n",
        "])"
      ],
      "metadata": {
        "id": "XsKx4JDztiuO"
      },
      "execution_count": null,
      "outputs": []
    },
    {
      "cell_type": "markdown",
      "source": [
        "The Adam optimizer is a popular optimization algorithm used for training neural networks. It adapts the learning rates of individual parameters during training, making it effective for a wide range of tasks.\n",
        "\n",
        "This is the loss function used to measure how well the model performs during training. For classification problems with integer labels (like the digits 0 through 9 in MNIST), sparse_categorical_crossentropy is a suitable choice. It calculates the crossentropy loss between the true labels and the predicted probabilities.\n",
        "\n",
        "During training, you want to monitor the accuracy of your model. The accuracy metric indicates the percentage of correctly classified samples. This is a common metric for classification tasks.\n",
        "\n",
        "After compiling the model, you can proceed with training it on your data using the fit method. For example:\n"
      ],
      "metadata": {
        "id": "t6p6bUdhGMeB"
      }
    },
    {
      "cell_type": "code",
      "source": [
        "# Compile the model\n",
        "model.compile(optimizer='adam',\n",
        "              loss='sparse_categorical_crossentropy',\n",
        "              metrics=['accuracy'])\n"
      ],
      "metadata": {
        "id": "s5eQnsIAtkx_"
      },
      "execution_count": null,
      "outputs": []
    },
    {
      "cell_type": "markdown",
      "source": [
        "Training Loss and Accuracy:\n",
        "\n",
        "The training loss decreases, indicating that the model is learning from the training data.\n",
        "The training accuracy is increasing, showing that the model is improving its ability to correctly classify training samples.\n",
        "Validation Loss and Accuracy:\n",
        "\n",
        "The validation loss is also decreasing, suggesting that the model is generalizing well to unseen data.\n",
        "The validation accuracy is increasing, indicating that the model is performing well on the validation set.\n",
        "Consistent Improvement:\n",
        "\n",
        "Across epochs, both training and validation metrics are improving, which is a positive sign.\n",
        "Training Time:\n",
        "\n",
        "The training time for each epoch is reasonable, indicating that the model is training efficiently."
      ],
      "metadata": {
        "id": "aPA2q-89Gr1-"
      }
    },
    {
      "cell_type": "code",
      "source": [
        "# Train the model\n",
        "history = model.fit(X_train, y_train, epochs=5, validation_data=(X_test, y_test))"
      ],
      "metadata": {
        "colab": {
          "base_uri": "https://localhost:8080/"
        },
        "id": "Gcbbq82Otmtc",
        "outputId": "de57eb14-ff6e-43e8-d1c0-b02bdf429963"
      },
      "execution_count": null,
      "outputs": [
        {
          "output_type": "stream",
          "name": "stdout",
          "text": [
            "Epoch 1/5\n",
            "1875/1875 [==============================] - 11s 5ms/step - loss: 0.2989 - accuracy: 0.9125 - val_loss: 0.1428 - val_accuracy: 0.9589\n",
            "Epoch 2/5\n",
            "1875/1875 [==============================] - 11s 6ms/step - loss: 0.1443 - accuracy: 0.9571 - val_loss: 0.1036 - val_accuracy: 0.9686\n",
            "Epoch 3/5\n",
            "1875/1875 [==============================] - 11s 6ms/step - loss: 0.1085 - accuracy: 0.9683 - val_loss: 0.0915 - val_accuracy: 0.9727\n",
            "Epoch 4/5\n",
            "1875/1875 [==============================] - 9s 5ms/step - loss: 0.0882 - accuracy: 0.9735 - val_loss: 0.0837 - val_accuracy: 0.9749\n",
            "Epoch 5/5\n",
            "1875/1875 [==============================] - 11s 6ms/step - loss: 0.0746 - accuracy: 0.9768 - val_loss: 0.0769 - val_accuracy: 0.9762\n"
          ]
        }
      ]
    },
    {
      "cell_type": "code",
      "source": [
        "# Evaluate the model on the test set\n",
        "test_loss, test_acc = model.evaluate(X_test, y_test)\n",
        "print(f'Test accuracy: {test_acc}')"
      ],
      "metadata": {
        "colab": {
          "base_uri": "https://localhost:8080/"
        },
        "id": "jkjSYS_nuH6p",
        "outputId": "5c0bd59b-0c5c-4fdc-8fe7-9d4c60f48e35"
      },
      "execution_count": null,
      "outputs": [
        {
          "output_type": "stream",
          "name": "stdout",
          "text": [
            "313/313 [==============================] - 1s 2ms/step - loss: 0.0769 - accuracy: 0.9762\n",
            "Test accuracy: 0.9761999845504761\n"
          ]
        }
      ]
    },
    {
      "cell_type": "markdown",
      "source": [
        "This is a useful visualization to understand how well your model is learning from the training data and how well it generalizes to unseen validation data. The history object is likely obtained from the fit method when you trained your model."
      ],
      "metadata": {
        "id": "mCYFkasTG6lD"
      }
    },
    {
      "cell_type": "code",
      "source": [
        "# Plot the training history\n",
        "plt.plot(history.history['accuracy'], label='accuracy')\n",
        "plt.plot(history.history['val_accuracy'], label='val_accuracy')\n",
        "plt.xlabel('Epoch')\n",
        "plt.ylabel('Accuracy')\n",
        "plt.legend(loc='lower right')\n",
        "plt.show()"
      ],
      "metadata": {
        "colab": {
          "base_uri": "https://localhost:8080/",
          "height": 455
        },
        "id": "GTS_XNhcuLrx",
        "outputId": "5b1877bc-347a-4f9e-a517-6f2e36ed326a"
      },
      "execution_count": null,
      "outputs": [
        {
          "output_type": "display_data",
          "data": {
            "text/plain": [
              "<Figure size 640x480 with 1 Axes>"
            ],
            "image/png": "[encoded data removed]"
          },
          "metadata": {}
        }
      ]
    },
    {
      "cell_type": "markdown",
      "source": [
        "***Step by Step Code Explaination***\n",
        "\n",
        "\n",
        "history.history['accuracy']: This retrieves the training accuracy for each epoch from the history object.\n",
        "\n",
        "history.history['val_accuracy']: This retrieves the validation accuracy for each epoch from the history object.\n",
        "\n",
        "plt.plot(...): This plots the training and validation accuracy on the same graph.\n",
        "\n",
        "plt.xlabel('Epoch'): Sets the x-axis label to 'Epoch'.\n",
        "\n",
        "plt.ylabel('Accuracy'): Sets the y-axis label to 'Accuracy'.\n",
        "\n",
        "plt.legend(loc='lower right'): Adds a legend to the plot, indicating which line corresponds to training accuracy and which one corresponds to validation accuracy. The loc='lower right' parameter places the legend in the lower-right corner of the plot.\n",
        "\n",
        "plt.show(): Finally, this displays the plot."
      ],
      "metadata": {
        "id": "YEq4aaGEG8WC"
      }
    },
    {
      "cell_type": "code",
      "source": [
        "from sklearn.model_selection import train_test_split\n",
        "\n",
        "# Assuming you have already loaded and preprocessed the Fashion MNIST data (X_train_fashion, y_train_fashion, X_test_fashion, y_test_fashion)\n",
        "\n",
        "# Split the data into training and testing sets\n",
        "X_train_split, X_test_split, y_train_split, y_test_split = train_test_split(\n",
        "    X_train_fashion, y_train_fashion, test_size=0.2, random_state=42\n",
        ")"
      ],
      "metadata": {
        "id": "uI1Z42llvBNb"
      },
      "execution_count": null,
      "outputs": []
    },
    {
      "cell_type": "markdown",
      "source": [
        "The provided code aims to perform binary classification on the Fashion MNIST dataset using a neural network. The dataset is loaded and preprocessed, with pixel values normalized to a range between 0 and 1. Multi-class labels are then converted to binary labels, distinguishing between class 0 and all other classes. The data is split into training and testing sets using the train_test_split function from scikit-learn. A simple neural network model is defined using the Keras Sequential API, consisting of a flattening layer, a dense hidden layer with ReLU activation, and an output layer with sigmoid activation for binary classification. The model is compiled with the Adam optimizer, binary crossentropy loss, and accuracy as the evaluation metric. Training is performed for 10 epochs, and a 10% validation split is used to monitor the model's performance. Finally, the trained model is evaluated on the test set, and the test accuracy is printed. The code demonstrates a standard workflow for binary classification tasks, showcasing data preprocessing, model construction, training, and evaluation steps.\n",
        "\n",
        "\n",
        "\n",
        "\n",
        "\n",
        "\n"
      ],
      "metadata": {
        "id": "eQ7Ze9-KIOFK"
      }
    },
    {
      "cell_type": "code",
      "source": [
        "import tensorflow as tf\n",
        "from tensorflow.keras import layers, models\n",
        "from sklearn.model_selection import train_test_split\n",
        "\n",
        "# Load the Fashion MNIST dataset\n",
        "(X_train_fashion, y_train_fashion), (X_test_fashion, y_test_fashion) = tf.keras.datasets.fashion_mnist.load_data()\n",
        "\n",
        "# Preprocess the data\n",
        "X_train_fashion, X_test_fashion = X_train_fashion / 255.0, X_test_fashion / 255.0\n",
        "\n",
        "# Convert labels to binary (0 for class 0, 1 for all other classes)\n",
        "y_train_binary = (y_train_fashion == 0).astype(int)\n",
        "y_test_binary = (y_test_fashion == 0).astype(int)\n",
        "\n",
        "# Split the data into training and testing sets\n",
        "X_train, X_test, y_train, y_test = train_test_split(\n",
        "    X_train_fashion, y_train_binary, test_size=0.2, random_state=42\n",
        ")\n",
        "\n",
        "# Build a simple binary classification model\n",
        "model = models.Sequential([\n",
        "    layers.Flatten(input_shape=(28, 28)),\n",
        "    layers.Dense(128, activation='relu'),\n",
        "    layers.Dense(1, activation='sigmoid')\n",
        "])\n",
        "\n",
        "# Compile the model\n",
        "model.compile(optimizer='adam', loss='binary_crossentropy', metrics=['accuracy'])\n",
        "\n",
        "# Train the model\n",
        "model.fit(X_train, y_train, epochs=10, validation_split=0.1)\n",
        "\n",
        "# Evaluate the model on the test set\n",
        "test_loss, test_acc = model.evaluate(X_test, y_test)\n",
        "print(f\"Test Accuracy: {test_acc}\")"
      ],
      "metadata": {
        "colab": {
          "base_uri": "https://localhost:8080/"
        },
        "id": "-ilWonNXvLcn",
        "outputId": "1f2e6b3d-77ac-49cb-b461-568e9badb641"
      },
      "execution_count": null,
      "outputs": [
        {
          "output_type": "stream",
          "name": "stdout",
          "text": [
            "Epoch 1/10\n",
            "1350/1350 [==============================] - 10s 6ms/step - loss: 0.1133 - accuracy: 0.9551 - val_loss: 0.0979 - val_accuracy: 0.9606\n",
            "Epoch 2/10\n",
            "1350/1350 [==============================] - 6s 5ms/step - loss: 0.0960 - accuracy: 0.9613 - val_loss: 0.0924 - val_accuracy: 0.9598\n",
            "Epoch 3/10\n",
            "1350/1350 [==============================] - 8s 6ms/step - loss: 0.0888 - accuracy: 0.9631 - val_loss: 0.0820 - val_accuracy: 0.9640\n",
            "Epoch 4/10\n",
            "1350/1350 [==============================] - 6s 4ms/step - loss: 0.0836 - accuracy: 0.9650 - val_loss: 0.0793 - val_accuracy: 0.9633\n",
            "Epoch 5/10\n",
            "1350/1350 [==============================] - 8s 6ms/step - loss: 0.0806 - accuracy: 0.9666 - val_loss: 0.0792 - val_accuracy: 0.9644\n",
            "Epoch 6/10\n",
            "1350/1350 [==============================] - 6s 4ms/step - loss: 0.0767 - accuracy: 0.9681 - val_loss: 0.0764 - val_accuracy: 0.9673\n",
            "Epoch 7/10\n",
            "1350/1350 [==============================] - 9s 7ms/step - loss: 0.0741 - accuracy: 0.9691 - val_loss: 0.0763 - val_accuracy: 0.9644\n",
            "Epoch 8/10\n",
            "1350/1350 [==============================] - 6s 5ms/step - loss: 0.0711 - accuracy: 0.9703 - val_loss: 0.0770 - val_accuracy: 0.9679\n",
            "Epoch 9/10\n",
            "1350/1350 [==============================] - 7s 5ms/step - loss: 0.0688 - accuracy: 0.9714 - val_loss: 0.0787 - val_accuracy: 0.9654\n",
            "Epoch 10/10\n",
            "1350/1350 [==============================] - 7s 5ms/step - loss: 0.0659 - accuracy: 0.9734 - val_loss: 0.0713 - val_accuracy: 0.9692\n",
            "375/375 [==============================] - 1s 2ms/step - loss: 0.0779 - accuracy: 0.9674\n",
            "Test Accuracy: 0.9674166440963745\n"
          ]
        }
      ]
    },
    {
      "cell_type": "markdown",
      "source": [
        "The provided code is designed to create a neural network for multiclass classification using the Fashion MNIST dataset. Initially, the dataset is loaded and preprocessed by normalizing the pixel values to a range between 0 and 1. Subsequently, the class labels are converted to one-hot encoding using the to_categorical function from Keras, essential for multiclass classification. The data is then split into training and testing sets with an 80-20 ratio. The neural network model is constructed using the Keras Sequential API, comprising a flattening layer to preprocess the input, a dense hidden layer with rectified linear unit (ReLU) activation, and an output layer with softmax activation to generate class probabilities. The model is compiled with the Adam optimizer, categorical crossentropy loss, and accuracy as the evaluation metric. The training phase involves fitting the model to the training data for 10 epochs, with a 10% validation split for monitoring performance. Finally, the model is evaluated on the test set, and the test accuracy is printed. This code encapsulates a standard procedure for building and training a multiclass classification model, providing insights into model performance on unseen data.\n",
        "\n",
        "\n",
        "\n",
        "\n",
        "\n",
        "\n"
      ],
      "metadata": {
        "id": "-KMVqZAJIbnq"
      }
    },
    {
      "cell_type": "code",
      "source": [
        "import tensorflow as tf\n",
        "from tensorflow.keras import layers, models\n",
        "from sklearn.model_selection import train_test_split\n",
        "from tensorflow.keras.utils import to_categorical\n",
        "\n",
        "# Load the Fashion MNIST dataset\n",
        "(X_train_fashion, y_train_fashion), (X_test_fashion, y_test_fashion) = tf.keras.datasets.fashion_mnist.load_data()\n",
        "\n",
        "# Preprocess the data\n",
        "X_train_fashion, X_test_fashion = X_train_fashion / 255.0, X_test_fashion / 255.0\n",
        "\n",
        "# Convert labels to one-hot encoding\n",
        "y_train_categorical = to_categorical(y_train_fashion)\n",
        "y_test_categorical = to_categorical(y_test_fashion)\n",
        "\n",
        "# Split the data into training and testing sets\n",
        "X_train, X_test, y_train, y_test = train_test_split(\n",
        "    X_train_fashion, y_train_categorical, test_size=0.2, random_state=42\n",
        ")\n",
        "\n",
        "# Build a simple multiclass classification model\n",
        "model = models.Sequential([\n",
        "    layers.Flatten(input_shape=(28, 28)),\n",
        "    layers.Dense(128, activation='relu'),\n",
        "    layers.Dense(10, activation='softmax')\n",
        "])\n",
        "\n",
        "# Compile the model\n",
        "model.compile(optimizer='adam', loss='categorical_crossentropy', metrics=['accuracy'])\n",
        "\n",
        "# Train the model\n",
        "model.fit(X_train, y_train, epochs=10, validation_split=0.1)\n",
        "\n",
        "# Evaluate the model on the test set\n",
        "test_loss, test_acc = model.evaluate(X_test, y_test)\n",
        "print(f\"Test Accuracy: {test_acc}\")"
      ],
      "metadata": {
        "colab": {
          "base_uri": "https://localhost:8080/"
        },
        "id": "Kywy_62Lvpt0",
        "outputId": "f6b4d72e-f220-44b1-e032-e29f73cb7a1f"
      },
      "execution_count": null,
      "outputs": [
        {
          "output_type": "stream",
          "name": "stdout",
          "text": [
            "Epoch 1/10\n",
            "1350/1350 [==============================] - 13s 9ms/step - loss: 0.5321 - accuracy: 0.8170 - val_loss: 0.4326 - val_accuracy: 0.8413\n",
            "Epoch 2/10\n",
            "1350/1350 [==============================] - 8s 6ms/step - loss: 0.3954 - accuracy: 0.8591 - val_loss: 0.4026 - val_accuracy: 0.8523\n",
            "Epoch 3/10\n",
            "1350/1350 [==============================] - 7s 5ms/step - loss: 0.3559 - accuracy: 0.8700 - val_loss: 0.3560 - val_accuracy: 0.8673\n",
            "Epoch 4/10\n",
            "1350/1350 [==============================] - 7s 5ms/step - loss: 0.3263 - accuracy: 0.8809 - val_loss: 0.3492 - val_accuracy: 0.8698\n",
            "Epoch 5/10\n",
            "1350/1350 [==============================] - 7s 5ms/step - loss: 0.3083 - accuracy: 0.8888 - val_loss: 0.3613 - val_accuracy: 0.8681\n",
            "Epoch 6/10\n",
            "1350/1350 [==============================] - 6s 5ms/step - loss: 0.2926 - accuracy: 0.8926 - val_loss: 0.3461 - val_accuracy: 0.8758\n",
            "Epoch 7/10\n",
            "1350/1350 [==============================] - 7s 5ms/step - loss: 0.2788 - accuracy: 0.8978 - val_loss: 0.3235 - val_accuracy: 0.8838\n",
            "Epoch 8/10\n",
            "1350/1350 [==============================] - 6s 4ms/step - loss: 0.2666 - accuracy: 0.9000 - val_loss: 0.3300 - val_accuracy: 0.8712\n",
            "Epoch 9/10\n",
            "1350/1350 [==============================] - 8s 6ms/step - loss: 0.2560 - accuracy: 0.9060 - val_loss: 0.3140 - val_accuracy: 0.8844\n",
            "Epoch 10/10\n",
            "1350/1350 [==============================] - 6s 4ms/step - loss: 0.2461 - accuracy: 0.9089 - val_loss: 0.3322 - val_accuracy: 0.8804\n",
            "375/375 [==============================] - 1s 2ms/step - loss: 0.3290 - accuracy: 0.8842\n",
            "Test Accuracy: 0.8841666579246521\n"
          ]
        }
      ]
    },
    {
      "cell_type": "code",
      "source": [
        "import numpy as np\n",
        "import seaborn as sns\n",
        "import matplotlib.pyplot as plt\n",
        "from sklearn.metrics import confusion_matrix, classification_report\n",
        "\n",
        "# Predictions on the test set\n",
        "y_pred = model.predict(X_test)\n",
        "y_pred_classes = np.argmax(y_pred, axis=1)\n",
        "y_true_classes = np.argmax(y_test, axis=1)\n",
        "\n",
        "# Confusion Matrix\n",
        "conf_mat = confusion_matrix(y_true_classes, y_pred_classes)\n",
        "\n",
        "# Plot Confusion Matrix\n",
        "plt.figure(figsize=(10, 8))\n",
        "sns.heatmap(conf_mat, annot=True, fmt='d', cmap='Blues', xticklabels=np.arange(10), yticklabels=np.arange(10))\n",
        "plt.xlabel('Predicted')\n",
        "plt.ylabel('True')\n",
        "plt.title('Confusion Matrix')\n",
        "plt.show()\n",
        "\n",
        "# Classification Report\n",
        "print(classification_report(y_true_classes, y_pred_classes))"
      ],
      "metadata": {
        "colab": {
          "base_uri": "https://localhost:8080/",
          "height": 1000
        },
        "id": "pYcgq2cfvu60",
        "outputId": "733f9366-4716-4057-afe6-eca7279d9c9d"
      },
      "execution_count": null,
      "outputs": [
        {
          "output_type": "stream",
          "name": "stdout",
          "text": [
            "375/375 [==============================] - 3s 7ms/step\n"
          ]
        },
        {
          "output_type": "display_data",
          "data": {
            "text/plain": [
              "<Figure size 1000x800 with 2 Axes>"
            ],
            "image/png": "[encoded data removed]"
          },
          "metadata": {}
        },
        {
          "output_type": "stream",
          "name": "stdout",
          "text": [
            "              precision    recall  f1-score   support\n",
            "\n",
            "           0       0.88      0.78      0.83      1202\n",
            "           1       0.97      0.98      0.98      1219\n",
            "           2       0.81      0.80      0.81      1205\n",
            "           3       0.90      0.89      0.89      1184\n",
            "           4       0.77      0.86      0.81      1202\n",
            "           5       0.96      0.96      0.96      1211\n",
            "           6       0.70      0.73      0.72      1218\n",
            "           7       0.93      0.96      0.94      1159\n",
            "           8       0.99      0.94      0.96      1197\n",
            "           9       0.97      0.94      0.95      1203\n",
            "\n",
            "    accuracy                           0.88     12000\n",
            "   macro avg       0.89      0.88      0.89     12000\n",
            "weighted avg       0.89      0.88      0.88     12000\n",
            "\n"
          ]
        }
      ]
    },
    {
      "cell_type": "markdown",
      "source": [
        "***Conclusion***\n",
        "\n",
        "The provided output represents the classification report for a multiclass classification model. Each row corresponds to a different class, and the columns provide various evaluation metrics for each class, including precision, recall, and F1-score. Here's an interpretation of the key metrics:\n",
        "\n",
        "Precision: Measures the accuracy of the positive predictions. For instance, for class 0, it indicates that 88% of the instances predicted as class 0 were indeed class 0.\n",
        "\n",
        "Recall: Measures the ability of the model to capture all the relevant instances of a particular class. For example, for class 1, it indicates that 98% of the actual instances of class 1 were correctly identified.\n",
        "\n",
        "F1-score: Represents the harmonic mean of precision and recall. It provides a balanced measure of a model's performance. For instance, for class 8, the F1-score is 96%, reflecting a balance between precision and recall.\n",
        "\n",
        "Support: Denotes the number of actual occurrences of each class in the test set.\n",
        "\n",
        "Accuracy: Represents the overall accuracy of the model across all classes, indicating the percentage of correctly classified instances.\n",
        "\n",
        "Macro Avg: Represents the average of precision, recall, and F1-score across all classes. It treats all classes equally.\n",
        "\n",
        "Weighted Avg: Similar to macro avg, but it considers the number of instances in each class, giving more weight to classes with more instances.\n",
        "\n",
        "In this specific case, the model exhibits an overall accuracy of 88% on a dataset of 12,000 instances. The macro avg and weighted avg scores, both around 88%, suggest a reasonably balanced performance across different classes. However, it's important to assess the metrics for individual classes to understand specific strengths and weaknesses of the model in classifying different categories. Adjustments to the model or its training process can be considered based on these insights.\n",
        "\n",
        "\n",
        "\n",
        "\n",
        "\n",
        "\n"
      ],
      "metadata": {
        "id": "conNqJTxIooB"
      }
    }
  ]
}